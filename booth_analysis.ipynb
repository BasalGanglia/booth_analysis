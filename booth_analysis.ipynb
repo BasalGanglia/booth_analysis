{
 "cells": [
  {
   "cell_type": "code",
   "execution_count": 355,
   "metadata": {},
   "outputs": [],
   "source": [
    "import pandas as pd\n",
    "import random\n",
    "import matplotlib.pyplot as plt\n",
    "import seaborn as sns\n",
    "import numpy as np\n",
    "\n",
    "# Xgboost gives tons of irrelevant warnings due to some internal numpy issue which should not be a problem\n",
    "import warnings\n",
    "warnings.filterwarnings('ignore')"
   ]
  },
  {
   "cell_type": "code",
   "execution_count": 356,
   "metadata": {},
   "outputs": [],
   "source": [
    "features_b1w2 = pd.read_csv('all_features_b1w2.csv')\n",
    "features_b2w1 = pd.read_csv('all_features_b2w1.csv')"
   ]
  },
  {
   "cell_type": "code",
   "execution_count": 357,
   "metadata": {},
   "outputs": [],
   "source": [
    "all_features = pd.concat([features_b1w2,features_b2w1])\n",
    "all_features.drop(['Unnamed: 0'],axis=1, inplace=True)"
   ]
  },
  {
   "cell_type": "code",
   "execution_count": 358,
   "metadata": {},
   "outputs": [],
   "source": [
    "subject_ids = all_features['Subjectid']\n",
    "all_features = all_features.drop('Subjectid',axis=1)\n",
    "all_features = all_features.astype('float32')\n",
    "all_features['Subjectid'] = subject_ids\n",
    "all_features = all_features.fillna(0)"
   ]
  },
  {
   "cell_type": "code",
   "execution_count": 359,
   "metadata": {
    "scrolled": true
   },
   "outputs": [
    {
     "data": {
      "text/plain": [
       "18"
      ]
     },
     "execution_count": 359,
     "metadata": {},
     "output_type": "execute_result"
    }
   ],
   "source": [
    "sids = all_features['Subjectid'].unique()\n",
    "training_sids = pd.DataFrame(sids).sample(9)\n",
    "training_sids = set(training_sids[0])"
   ]
  },
  {
   "cell_type": "markdown",
   "metadata": {},
   "source": [
    "In the end we have 18 valid subjects. Lets split it randomly to 9 for training and 9 for testing.\n",
    "\n",
    "### Those sids not in training will be used for testing:"
   ]
  },
  {
   "cell_type": "code",
   "execution_count": 362,
   "metadata": {},
   "outputs": [],
   "source": [
    "testing_sids = set(sids) - set(training_sids)"
   ]
  },
  {
   "cell_type": "markdown",
   "metadata": {},
   "source": [
    "### Extracting training feature data:"
   ]
  },
  {
   "cell_type": "code",
   "execution_count": 408,
   "metadata": {},
   "outputs": [],
   "source": [
    "# The following code is only run once, and then the sets are stored in the pickles to be loaded later\n",
    "#training_features = all_features[all_features.Subjectid.isin(training_sids)]\n",
    "#testing_features = all_features[all_features.Subjectid.isin(testing_sids)]"
   ]
  },
  {
   "cell_type": "code",
   "execution_count": 409,
   "metadata": {},
   "outputs": [],
   "source": [
    "#training_features.to_pickle('training_features.pickle')\n",
    "#testing_features.to_pickle('testing_features.pickle')"
   ]
  },
  {
   "cell_type": "code",
   "execution_count": null,
   "metadata": {},
   "outputs": [],
   "source": [
    "training_features = pd.read_pickle('training_features.pickle')\n",
    "testing_features = pd.read_pickle('testing_features.pickle')"
   ]
  },
  {
   "cell_type": "code",
   "execution_count": 364,
   "metadata": {
    "scrolled": true
   },
   "outputs": [
    {
     "data": {
      "text/html": [
       "<div>\n",
       "<style scoped>\n",
       "    .dataframe tbody tr th:only-of-type {\n",
       "        vertical-align: middle;\n",
       "    }\n",
       "\n",
       "    .dataframe tbody tr th {\n",
       "        vertical-align: top;\n",
       "    }\n",
       "\n",
       "    .dataframe thead th {\n",
       "        text-align: right;\n",
       "    }\n",
       "</style>\n",
       "<table border=\"1\" class=\"dataframe\">\n",
       "  <thead>\n",
       "    <tr style=\"text-align: right;\">\n",
       "      <th></th>\n",
       "      <th>Alpha0</th>\n",
       "      <th>Alpha1</th>\n",
       "      <th>Alpha2</th>\n",
       "      <th>Alpha3</th>\n",
       "      <th>Alpha4</th>\n",
       "      <th>Alpha5</th>\n",
       "      <th>Alpha6</th>\n",
       "      <th>Alpha7</th>\n",
       "      <th>Alpha_std0</th>\n",
       "      <th>Alpha_std1</th>\n",
       "      <th>...</th>\n",
       "      <th>Theta_std0</th>\n",
       "      <th>Theta_std1</th>\n",
       "      <th>Theta_std2</th>\n",
       "      <th>Theta_std3</th>\n",
       "      <th>Theta_std4</th>\n",
       "      <th>Theta_std5</th>\n",
       "      <th>Theta_std6</th>\n",
       "      <th>Theta_std7</th>\n",
       "      <th>trialid</th>\n",
       "      <th>Subjectid</th>\n",
       "    </tr>\n",
       "  </thead>\n",
       "  <tbody>\n",
       "    <tr>\n",
       "      <th>0</th>\n",
       "      <td>0.810696</td>\n",
       "      <td>0.982211</td>\n",
       "      <td>1.094020</td>\n",
       "      <td>1.097921</td>\n",
       "      <td>0.819019</td>\n",
       "      <td>1.105512</td>\n",
       "      <td>1.038125</td>\n",
       "      <td>1.337341</td>\n",
       "      <td>0.781874</td>\n",
       "      <td>0.440427</td>\n",
       "      <td>...</td>\n",
       "      <td>1.005962</td>\n",
       "      <td>0.718546</td>\n",
       "      <td>0.705772</td>\n",
       "      <td>0.708969</td>\n",
       "      <td>1.005485</td>\n",
       "      <td>0.700278</td>\n",
       "      <td>0.636072</td>\n",
       "      <td>0.716171</td>\n",
       "      <td>0.0</td>\n",
       "      <td>B0HBS</td>\n",
       "    </tr>\n",
       "    <tr>\n",
       "      <th>1</th>\n",
       "      <td>1.016698</td>\n",
       "      <td>0.984813</td>\n",
       "      <td>0.914218</td>\n",
       "      <td>0.907450</td>\n",
       "      <td>0.993608</td>\n",
       "      <td>0.903969</td>\n",
       "      <td>0.952097</td>\n",
       "      <td>1.383438</td>\n",
       "      <td>0.566195</td>\n",
       "      <td>0.606365</td>\n",
       "      <td>...</td>\n",
       "      <td>0.770786</td>\n",
       "      <td>0.798360</td>\n",
       "      <td>0.879313</td>\n",
       "      <td>0.897199</td>\n",
       "      <td>0.846364</td>\n",
       "      <td>1.008626</td>\n",
       "      <td>0.921412</td>\n",
       "      <td>0.639683</td>\n",
       "      <td>1.0</td>\n",
       "      <td>B0HBS</td>\n",
       "    </tr>\n",
       "    <tr>\n",
       "      <th>2</th>\n",
       "      <td>0.980377</td>\n",
       "      <td>0.976098</td>\n",
       "      <td>0.945818</td>\n",
       "      <td>0.952897</td>\n",
       "      <td>0.965086</td>\n",
       "      <td>0.951370</td>\n",
       "      <td>0.963418</td>\n",
       "      <td>1.492367</td>\n",
       "      <td>0.823909</td>\n",
       "      <td>0.755456</td>\n",
       "      <td>...</td>\n",
       "      <td>0.712441</td>\n",
       "      <td>0.918426</td>\n",
       "      <td>0.832433</td>\n",
       "      <td>0.688665</td>\n",
       "      <td>1.031829</td>\n",
       "      <td>0.902890</td>\n",
       "      <td>0.777442</td>\n",
       "      <td>0.725037</td>\n",
       "      <td>2.0</td>\n",
       "      <td>B0HBS</td>\n",
       "    </tr>\n",
       "    <tr>\n",
       "      <th>3</th>\n",
       "      <td>0.963024</td>\n",
       "      <td>0.986928</td>\n",
       "      <td>0.999634</td>\n",
       "      <td>0.984591</td>\n",
       "      <td>0.986318</td>\n",
       "      <td>0.999912</td>\n",
       "      <td>1.047799</td>\n",
       "      <td>1.578469</td>\n",
       "      <td>0.682564</td>\n",
       "      <td>0.669060</td>\n",
       "      <td>...</td>\n",
       "      <td>0.687735</td>\n",
       "      <td>0.905619</td>\n",
       "      <td>0.735754</td>\n",
       "      <td>0.836285</td>\n",
       "      <td>1.012260</td>\n",
       "      <td>1.056584</td>\n",
       "      <td>0.762644</td>\n",
       "      <td>1.054023</td>\n",
       "      <td>3.0</td>\n",
       "      <td>B0HBS</td>\n",
       "    </tr>\n",
       "    <tr>\n",
       "      <th>4</th>\n",
       "      <td>0.864063</td>\n",
       "      <td>0.874867</td>\n",
       "      <td>0.941102</td>\n",
       "      <td>0.920271</td>\n",
       "      <td>0.916635</td>\n",
       "      <td>0.920181</td>\n",
       "      <td>0.895357</td>\n",
       "      <td>1.296976</td>\n",
       "      <td>0.834847</td>\n",
       "      <td>0.873288</td>\n",
       "      <td>...</td>\n",
       "      <td>0.797012</td>\n",
       "      <td>0.726554</td>\n",
       "      <td>0.928563</td>\n",
       "      <td>0.836137</td>\n",
       "      <td>0.810013</td>\n",
       "      <td>0.691879</td>\n",
       "      <td>0.649989</td>\n",
       "      <td>0.849632</td>\n",
       "      <td>4.0</td>\n",
       "      <td>B0HBS</td>\n",
       "    </tr>\n",
       "  </tbody>\n",
       "</table>\n",
       "<p>5 rows × 109 columns</p>\n",
       "</div>"
      ],
      "text/plain": [
       "     Alpha0    Alpha1    Alpha2    Alpha3    Alpha4    Alpha5    Alpha6  \\\n",
       "0  0.810696  0.982211  1.094020  1.097921  0.819019  1.105512  1.038125   \n",
       "1  1.016698  0.984813  0.914218  0.907450  0.993608  0.903969  0.952097   \n",
       "2  0.980377  0.976098  0.945818  0.952897  0.965086  0.951370  0.963418   \n",
       "3  0.963024  0.986928  0.999634  0.984591  0.986318  0.999912  1.047799   \n",
       "4  0.864063  0.874867  0.941102  0.920271  0.916635  0.920181  0.895357   \n",
       "\n",
       "     Alpha7  Alpha_std0  Alpha_std1    ...      Theta_std0  Theta_std1  \\\n",
       "0  1.337341    0.781874    0.440427    ...        1.005962    0.718546   \n",
       "1  1.383438    0.566195    0.606365    ...        0.770786    0.798360   \n",
       "2  1.492367    0.823909    0.755456    ...        0.712441    0.918426   \n",
       "3  1.578469    0.682564    0.669060    ...        0.687735    0.905619   \n",
       "4  1.296976    0.834847    0.873288    ...        0.797012    0.726554   \n",
       "\n",
       "   Theta_std2  Theta_std3  Theta_std4  Theta_std5  Theta_std6  Theta_std7  \\\n",
       "0    0.705772    0.708969    1.005485    0.700278    0.636072    0.716171   \n",
       "1    0.879313    0.897199    0.846364    1.008626    0.921412    0.639683   \n",
       "2    0.832433    0.688665    1.031829    0.902890    0.777442    0.725037   \n",
       "3    0.735754    0.836285    1.012260    1.056584    0.762644    1.054023   \n",
       "4    0.928563    0.836137    0.810013    0.691879    0.649989    0.849632   \n",
       "\n",
       "   trialid  Subjectid  \n",
       "0      0.0      B0HBS  \n",
       "1      1.0      B0HBS  \n",
       "2      2.0      B0HBS  \n",
       "3      3.0      B0HBS  \n",
       "4      4.0      B0HBS  \n",
       "\n",
       "[5 rows x 109 columns]"
      ]
     },
     "execution_count": 364,
     "metadata": {},
     "output_type": "execute_result"
    }
   ],
   "source": [
    "training_features.head()"
   ]
  },
  {
   "cell_type": "code",
   "execution_count": 365,
   "metadata": {
    "scrolled": true
   },
   "outputs": [
    {
     "data": {
      "text/html": [
       "<div>\n",
       "<style scoped>\n",
       "    .dataframe tbody tr th:only-of-type {\n",
       "        vertical-align: middle;\n",
       "    }\n",
       "\n",
       "    .dataframe tbody tr th {\n",
       "        vertical-align: top;\n",
       "    }\n",
       "\n",
       "    .dataframe thead th {\n",
       "        text-align: right;\n",
       "    }\n",
       "</style>\n",
       "<table border=\"1\" class=\"dataframe\">\n",
       "  <thead>\n",
       "    <tr style=\"text-align: right;\">\n",
       "      <th></th>\n",
       "      <th>Alpha0</th>\n",
       "      <th>Alpha1</th>\n",
       "      <th>Alpha2</th>\n",
       "      <th>Alpha3</th>\n",
       "      <th>Alpha4</th>\n",
       "      <th>Alpha5</th>\n",
       "      <th>Alpha6</th>\n",
       "      <th>Alpha7</th>\n",
       "      <th>Alpha_std0</th>\n",
       "      <th>Alpha_std1</th>\n",
       "      <th>...</th>\n",
       "      <th>Theta7</th>\n",
       "      <th>Theta_std0</th>\n",
       "      <th>Theta_std1</th>\n",
       "      <th>Theta_std2</th>\n",
       "      <th>Theta_std3</th>\n",
       "      <th>Theta_std4</th>\n",
       "      <th>Theta_std5</th>\n",
       "      <th>Theta_std6</th>\n",
       "      <th>Theta_std7</th>\n",
       "      <th>trialid</th>\n",
       "    </tr>\n",
       "  </thead>\n",
       "  <tbody>\n",
       "    <tr>\n",
       "      <th>count</th>\n",
       "      <td>135.000000</td>\n",
       "      <td>135.000000</td>\n",
       "      <td>135.000000</td>\n",
       "      <td>135.000000</td>\n",
       "      <td>135.000000</td>\n",
       "      <td>135.000000</td>\n",
       "      <td>135.000000</td>\n",
       "      <td>135.000000</td>\n",
       "      <td>135.000000</td>\n",
       "      <td>135.000000</td>\n",
       "      <td>...</td>\n",
       "      <td>135.000000</td>\n",
       "      <td>135.000000</td>\n",
       "      <td>135.000000</td>\n",
       "      <td>135.000000</td>\n",
       "      <td>135.000000</td>\n",
       "      <td>135.000000</td>\n",
       "      <td>135.000000</td>\n",
       "      <td>135.000000</td>\n",
       "      <td>135.000000</td>\n",
       "      <td>135.000000</td>\n",
       "    </tr>\n",
       "    <tr>\n",
       "      <th>mean</th>\n",
       "      <td>1.195365</td>\n",
       "      <td>1.069108</td>\n",
       "      <td>1.076654</td>\n",
       "      <td>1.037718</td>\n",
       "      <td>1.082927</td>\n",
       "      <td>1.063279</td>\n",
       "      <td>1.090416</td>\n",
       "      <td>1.117184</td>\n",
       "      <td>0.841537</td>\n",
       "      <td>0.829755</td>\n",
       "      <td>...</td>\n",
       "      <td>1.144195</td>\n",
       "      <td>0.853791</td>\n",
       "      <td>0.931492</td>\n",
       "      <td>0.854890</td>\n",
       "      <td>0.857083</td>\n",
       "      <td>0.936974</td>\n",
       "      <td>0.943987</td>\n",
       "      <td>0.796406</td>\n",
       "      <td>0.783938</td>\n",
       "      <td>7.000000</td>\n",
       "    </tr>\n",
       "    <tr>\n",
       "      <th>std</th>\n",
       "      <td>0.341722</td>\n",
       "      <td>0.116433</td>\n",
       "      <td>0.123675</td>\n",
       "      <td>0.132594</td>\n",
       "      <td>0.113724</td>\n",
       "      <td>0.110338</td>\n",
       "      <td>0.140782</td>\n",
       "      <td>0.193593</td>\n",
       "      <td>0.339316</td>\n",
       "      <td>0.320914</td>\n",
       "      <td>...</td>\n",
       "      <td>0.173008</td>\n",
       "      <td>0.221117</td>\n",
       "      <td>0.250237</td>\n",
       "      <td>0.250938</td>\n",
       "      <td>0.255479</td>\n",
       "      <td>0.251833</td>\n",
       "      <td>0.259216</td>\n",
       "      <td>0.217472</td>\n",
       "      <td>0.208576</td>\n",
       "      <td>4.336585</td>\n",
       "    </tr>\n",
       "    <tr>\n",
       "      <th>min</th>\n",
       "      <td>0.771015</td>\n",
       "      <td>0.820957</td>\n",
       "      <td>0.787929</td>\n",
       "      <td>0.735719</td>\n",
       "      <td>0.796445</td>\n",
       "      <td>0.804173</td>\n",
       "      <td>0.733769</td>\n",
       "      <td>0.659990</td>\n",
       "      <td>0.433080</td>\n",
       "      <td>0.325400</td>\n",
       "      <td>...</td>\n",
       "      <td>0.762383</td>\n",
       "      <td>0.210102</td>\n",
       "      <td>0.362405</td>\n",
       "      <td>0.230588</td>\n",
       "      <td>0.364050</td>\n",
       "      <td>0.377633</td>\n",
       "      <td>0.425499</td>\n",
       "      <td>0.325597</td>\n",
       "      <td>0.340448</td>\n",
       "      <td>0.000000</td>\n",
       "    </tr>\n",
       "    <tr>\n",
       "      <th>25%</th>\n",
       "      <td>1.015736</td>\n",
       "      <td>0.989705</td>\n",
       "      <td>1.012438</td>\n",
       "      <td>0.951050</td>\n",
       "      <td>1.028504</td>\n",
       "      <td>0.993842</td>\n",
       "      <td>1.040105</td>\n",
       "      <td>1.031895</td>\n",
       "      <td>0.621907</td>\n",
       "      <td>0.591845</td>\n",
       "      <td>...</td>\n",
       "      <td>1.060272</td>\n",
       "      <td>0.708610</td>\n",
       "      <td>0.773982</td>\n",
       "      <td>0.707749</td>\n",
       "      <td>0.706218</td>\n",
       "      <td>0.782310</td>\n",
       "      <td>0.753271</td>\n",
       "      <td>0.679373</td>\n",
       "      <td>0.667310</td>\n",
       "      <td>3.000000</td>\n",
       "    </tr>\n",
       "    <tr>\n",
       "      <th>50%</th>\n",
       "      <td>1.088464</td>\n",
       "      <td>1.063693</td>\n",
       "      <td>1.063394</td>\n",
       "      <td>1.041509</td>\n",
       "      <td>1.074059</td>\n",
       "      <td>1.061674</td>\n",
       "      <td>1.083826</td>\n",
       "      <td>1.119920</td>\n",
       "      <td>0.742486</td>\n",
       "      <td>0.748885</td>\n",
       "      <td>...</td>\n",
       "      <td>1.137988</td>\n",
       "      <td>0.832115</td>\n",
       "      <td>0.903947</td>\n",
       "      <td>0.827517</td>\n",
       "      <td>0.836643</td>\n",
       "      <td>0.892020</td>\n",
       "      <td>0.902890</td>\n",
       "      <td>0.778616</td>\n",
       "      <td>0.763733</td>\n",
       "      <td>7.000000</td>\n",
       "    </tr>\n",
       "    <tr>\n",
       "      <th>75%</th>\n",
       "      <td>1.191440</td>\n",
       "      <td>1.127401</td>\n",
       "      <td>1.130773</td>\n",
       "      <td>1.106411</td>\n",
       "      <td>1.132604</td>\n",
       "      <td>1.126676</td>\n",
       "      <td>1.149201</td>\n",
       "      <td>1.205126</td>\n",
       "      <td>0.902067</td>\n",
       "      <td>0.980259</td>\n",
       "      <td>...</td>\n",
       "      <td>1.207056</td>\n",
       "      <td>0.965741</td>\n",
       "      <td>1.053450</td>\n",
       "      <td>0.962275</td>\n",
       "      <td>0.966841</td>\n",
       "      <td>1.065554</td>\n",
       "      <td>1.105367</td>\n",
       "      <td>0.880103</td>\n",
       "      <td>0.884257</td>\n",
       "      <td>11.000000</td>\n",
       "    </tr>\n",
       "    <tr>\n",
       "      <th>max</th>\n",
       "      <td>2.435760</td>\n",
       "      <td>1.428687</td>\n",
       "      <td>1.441957</td>\n",
       "      <td>1.347046</td>\n",
       "      <td>1.444339</td>\n",
       "      <td>1.367298</td>\n",
       "      <td>1.522561</td>\n",
       "      <td>1.578469</td>\n",
       "      <td>2.112885</td>\n",
       "      <td>2.106743</td>\n",
       "      <td>...</td>\n",
       "      <td>1.643525</td>\n",
       "      <td>1.461285</td>\n",
       "      <td>1.636172</td>\n",
       "      <td>2.030450</td>\n",
       "      <td>2.391375</td>\n",
       "      <td>1.601711</td>\n",
       "      <td>1.788007</td>\n",
       "      <td>1.802785</td>\n",
       "      <td>1.534849</td>\n",
       "      <td>14.000000</td>\n",
       "    </tr>\n",
       "  </tbody>\n",
       "</table>\n",
       "<p>8 rows × 108 columns</p>\n",
       "</div>"
      ],
      "text/plain": [
       "           Alpha0      Alpha1      Alpha2      Alpha3      Alpha4      Alpha5  \\\n",
       "count  135.000000  135.000000  135.000000  135.000000  135.000000  135.000000   \n",
       "mean     1.195365    1.069108    1.076654    1.037718    1.082927    1.063279   \n",
       "std      0.341722    0.116433    0.123675    0.132594    0.113724    0.110338   \n",
       "min      0.771015    0.820957    0.787929    0.735719    0.796445    0.804173   \n",
       "25%      1.015736    0.989705    1.012438    0.951050    1.028504    0.993842   \n",
       "50%      1.088464    1.063693    1.063394    1.041509    1.074059    1.061674   \n",
       "75%      1.191440    1.127401    1.130773    1.106411    1.132604    1.126676   \n",
       "max      2.435760    1.428687    1.441957    1.347046    1.444339    1.367298   \n",
       "\n",
       "           Alpha6      Alpha7  Alpha_std0  Alpha_std1     ...          Theta7  \\\n",
       "count  135.000000  135.000000  135.000000  135.000000     ...      135.000000   \n",
       "mean     1.090416    1.117184    0.841537    0.829755     ...        1.144195   \n",
       "std      0.140782    0.193593    0.339316    0.320914     ...        0.173008   \n",
       "min      0.733769    0.659990    0.433080    0.325400     ...        0.762383   \n",
       "25%      1.040105    1.031895    0.621907    0.591845     ...        1.060272   \n",
       "50%      1.083826    1.119920    0.742486    0.748885     ...        1.137988   \n",
       "75%      1.149201    1.205126    0.902067    0.980259     ...        1.207056   \n",
       "max      1.522561    1.578469    2.112885    2.106743     ...        1.643525   \n",
       "\n",
       "       Theta_std0  Theta_std1  Theta_std2  Theta_std3  Theta_std4  Theta_std5  \\\n",
       "count  135.000000  135.000000  135.000000  135.000000  135.000000  135.000000   \n",
       "mean     0.853791    0.931492    0.854890    0.857083    0.936974    0.943987   \n",
       "std      0.221117    0.250237    0.250938    0.255479    0.251833    0.259216   \n",
       "min      0.210102    0.362405    0.230588    0.364050    0.377633    0.425499   \n",
       "25%      0.708610    0.773982    0.707749    0.706218    0.782310    0.753271   \n",
       "50%      0.832115    0.903947    0.827517    0.836643    0.892020    0.902890   \n",
       "75%      0.965741    1.053450    0.962275    0.966841    1.065554    1.105367   \n",
       "max      1.461285    1.636172    2.030450    2.391375    1.601711    1.788007   \n",
       "\n",
       "       Theta_std6  Theta_std7     trialid  \n",
       "count  135.000000  135.000000  135.000000  \n",
       "mean     0.796406    0.783938    7.000000  \n",
       "std      0.217472    0.208576    4.336585  \n",
       "min      0.325597    0.340448    0.000000  \n",
       "25%      0.679373    0.667310    3.000000  \n",
       "50%      0.778616    0.763733    7.000000  \n",
       "75%      0.880103    0.884257   11.000000  \n",
       "max      1.802785    1.534849   14.000000  \n",
       "\n",
       "[8 rows x 108 columns]"
      ]
     },
     "execution_count": 365,
     "metadata": {},
     "output_type": "execute_result"
    }
   ],
   "source": [
    "training_features.describe()"
   ]
  },
  {
   "cell_type": "code",
   "execution_count": 366,
   "metadata": {
    "scrolled": true
   },
   "outputs": [
    {
     "data": {
      "text/plain": [
       "(array([12., 58., 39., 10.,  2.,  0.,  3.,  3.,  5.,  3.]),\n",
       " array([0.771015 , 0.9374895, 1.1039641, 1.2704387, 1.4369133, 1.6033877,\n",
       "        1.7698623, 1.9363369, 2.1028113, 2.269286 , 2.4357605],\n",
       "       dtype=float32),\n",
       " <a list of 10 Patch objects>)"
      ]
     },
     "execution_count": 366,
     "metadata": {},
     "output_type": "execute_result"
    },
    {
     "data": {
      "image/png": "[encoded data removed]",
      "text/plain": [
       "<Figure size 864x288 with 1 Axes>"
      ]
     },
     "metadata": {
      "needs_background": "light"
     },
     "output_type": "display_data"
    }
   ],
   "source": [
    "plt.hist(training_features['Alpha0'])"
   ]
  },
  {
   "cell_type": "markdown",
   "metadata": {},
   "source": [
    "### data looks reasonably Gaussian."
   ]
  },
  {
   "cell_type": "markdown",
   "metadata": {},
   "source": [
    "# The machine learning model\n",
    "I already stored away half of the data into \"testing_features\" earlier.\n",
    "I'll now resplit the remaining data to testing and training."
   ]
  },
  {
   "cell_type": "code",
   "execution_count": 387,
   "metadata": {},
   "outputs": [],
   "source": [
    "# First lets separate labels\n",
    "\n",
    "empathy_level = training_features['Empathy_level']\n",
    "empathy_level_testing = testing_features['Empathy_level']"
   ]
  },
  {
   "cell_type": "code",
   "execution_count": 368,
   "metadata": {},
   "outputs": [
    {
     "data": {
      "text/plain": [
       "(array([63.,  0.,  0., 27.,  0.,  0., 36.,  0.,  0.,  9.]),\n",
       " array([0. , 0.3, 0.6, 0.9, 1.2, 1.5, 1.8, 2.1, 2.4, 2.7, 3. ],\n",
       "       dtype=float32),\n",
       " <a list of 10 Patch objects>)"
      ]
     },
     "execution_count": 368,
     "metadata": {},
     "output_type": "execute_result"
    },
    {
     "data": {
      "image/png": "[encoded data removed]",
      "text/plain": [
       "<Figure size 864x288 with 1 Axes>"
      ]
     },
     "metadata": {
      "needs_background": "light"
     },
     "output_type": "display_data"
    }
   ],
   "source": [
    "plt.hist(empathy_level)"
   ]
  },
  {
   "cell_type": "markdown",
   "metadata": {},
   "source": [
    "# We have half of the events without any empathy, and half with some levels of empathy. Lets make binary variable between empathy / no empathy to simplify it instead of trying to predict different levels of empathy (not enough dat afor that)"
   ]
  },
  {
   "cell_type": "code",
   "execution_count": 388,
   "metadata": {},
   "outputs": [],
   "source": [
    "empathy_labels = [ x if x == 0 else 1 for x in empathy_level]\n",
    "empathy_labels_testing = [x if x == 0 else 1 for x in empathy_level_testing] "
   ]
  },
  {
   "cell_type": "code",
   "execution_count": 413,
   "metadata": {
    "scrolled": true
   },
   "outputs": [],
   "source": [
    "training_features =training_features.drop(['Empathy_level', 'Subjectid','trialid'],axis=1)\n",
    "testing_features =testing_features.drop(['Empathy_level', 'Subjectid','trialid'],axis=1)"
   ]
  },
  {
   "cell_type": "code",
   "execution_count": 371,
   "metadata": {},
   "outputs": [],
   "source": [
    "import sklearn"
   ]
  },
  {
   "cell_type": "code",
   "execution_count": 372,
   "metadata": {},
   "outputs": [
    {
     "name": "stdout",
     "output_type": "stream",
     "text": [
      "Training set has 108 samples.\n",
      "Testing set has 27 samples.\n"
     ]
    }
   ],
   "source": [
    "from sklearn.model_selection import train_test_split\n",
    "\n",
    "X_train, X_test, y_train, y_test = train_test_split(training_features,\n",
    "                                                   empathy_labels,\n",
    "                                                   test_size =0.2)\n",
    "# Show the results of the split\n",
    "print(\"Training set has {} samples.\".format(X_train.shape[0]))\n",
    "print(\"Testing set has {} samples.\".format(X_test.shape[0]))"
   ]
  },
  {
   "cell_type": "markdown",
   "metadata": {},
   "source": [
    "# Test few different classifiers"
   ]
  },
  {
   "cell_type": "code",
   "execution_count": 373,
   "metadata": {},
   "outputs": [
    {
     "name": "stdout",
     "output_type": "stream",
     "text": [
      "Gradient boosting test accuracy:0.6666666666666666, fbeta:0.6\n"
     ]
    }
   ],
   "source": [
    "# Testing gradient boosting\n",
    "from sklearn.ensemble import GradientBoostingClassifier\n",
    "from sklearn.metrics import fbeta_score, accuracy_score\n",
    "GB_clf = GradientBoostingClassifier()\n",
    "\n",
    "GB_model = GB_clf.fit(X_train, y_train)\n",
    "GB_predictions_train = GB_model.predict(X_train)\n",
    "GB_predictions_test = GB_model.predict(X_test)\n",
    "GB_acc_train = accuracy_score(y_train,GB_predictions_train)\n",
    "GB_acc_test = accuracy_score(y_test,GB_predictions_test)\n",
    "GB_fbeta_train = fbeta_score(y_train,GB_predictions_train, beta=0.5)\n",
    "GB_fbeta_test = fbeta_score(y_test,GB_predictions_test, beta=0.5)\n",
    "\n",
    "print(\"Gradient boosting test accuracy:{}, fbeta:{}\".format(GB_acc_test,GB_fbeta_test))\n",
    "#results = train_predict(GB_clf, X_train,y_train,X_test, y_test)"
   ]
  },
  {
   "cell_type": "code",
   "execution_count": 374,
   "metadata": {},
   "outputs": [
    {
     "name": "stdout",
     "output_type": "stream",
     "text": [
      "Random Forst test accuracy:0.5185185185185185, fbeta:0.4819277108433735\n"
     ]
    }
   ],
   "source": [
    "# Testing random forest\n",
    "from sklearn.ensemble import RandomForestClassifier\n",
    "from sklearn.metrics import fbeta_score, accuracy_score,confusion_matrix\n",
    "rf_clf = GradientBoostingClassifier()\n",
    "rf_clf = RandomForestClassifier()\n",
    "\n",
    "rf_model = rf_clf.fit(X_train, y_train)\n",
    "rf_predictions_train = rf_model.predict(X_train)\n",
    "rf_predictions_test = rf_model.predict(X_test)\n",
    "rf_acc_train = accuracy_score(y_train,rf_predictions_train)\n",
    "rf_acc_test = accuracy_score(y_test,rf_predictions_test)\n",
    "rf_fbeta_train = fbeta_score(y_train,rf_predictions_train, beta=0.5)\n",
    "rf_fbeta_test = fbeta_score(y_test,rf_predictions_test, beta=0.5)\n",
    "\n",
    "print(\"Random Forst test accuracy:{}, fbeta:{}\".format(rf_acc_test,rf_fbeta_test))\n"
   ]
  },
  {
   "cell_type": "code",
   "execution_count": 375,
   "metadata": {},
   "outputs": [],
   "source": [
    "import xgboost as xgb"
   ]
  },
  {
   "cell_type": "code",
   "execution_count": 376,
   "metadata": {
    "scrolled": true
   },
   "outputs": [
    {
     "name": "stdout",
     "output_type": "stream",
     "text": [
      "XBoost test accuracy:0.6666666666666666, fbeta:0.6\n"
     ]
    }
   ],
   "source": [
    "xgb_model = xgb.XGBClassifier(objective=\"binary:logistic\")\n",
    "xgb_model.fit(X_train,y_train)\n",
    "xgb_predictions_train = xgb_model.predict(X_train)\n",
    "xgb_predictions_test = xgb_model.predict(X_test)\n",
    "\n",
    "xgb_acc_train = accuracy_score(y_train,xgb_predictions_train)\n",
    "xgb_acc_test = accuracy_score(y_test,xgb_predictions_test)\n",
    "xgb_fbeta_train = fbeta_score(y_train,xgb_predictions_train, beta=0.5)\n",
    "xgb_fbeta_test = fbeta_score(y_test,xgb_predictions_test, beta=0.5)\n",
    "\n",
    "print(\"XBoost test accuracy:{}, fbeta:{}\".format(xgb_acc_test,xgb_fbeta_test))\n"
   ]
  },
  {
   "cell_type": "code",
   "execution_count": 377,
   "metadata": {},
   "outputs": [
    {
     "name": "stdout",
     "output_type": "stream",
     "text": [
      "Permutation test with random forest gave us average accuracy of 0.5148148148148147 with p-value 0.6138613861386139\n",
      "Permutation test with Gradient Boosting gave us average accuracy of 0.3398148148148148 with p-value 0.9306930693069307\n",
      "Permutation test with XGBoosting gave us average accuracy of 0.5601851851851852 with p-value 0.33663366336633666\n"
     ]
    }
   ],
   "source": [
    "from sklearn.model_selection import permutation_test_score\n",
    "\n",
    "score, permutation_scores, pvalue = permutation_test_score(\n",
    "    rf_model, X_test, y_test, scoring=\"accuracy\", cv=None, n_permutations=100, n_jobs=1)\n",
    "\n",
    "print(\"Permutation test with random forest gave us average accuracy of {} with p-value {}\".format(score,pvalue))\n",
    "\n",
    "score, permutation_scores, pvalue = permutation_test_score(\n",
    "    GB_model, X_test, y_test, scoring=\"accuracy\", cv=None, n_permutations=100, n_jobs=1)\n",
    "\n",
    "print(\"Permutation test with Gradient Boosting gave us average accuracy of {} with p-value {}\".format(score,pvalue))\n",
    "\n",
    "\n",
    "score, permutation_scores, pvalue = permutation_test_score(\n",
    "    xgb_model, X_test, y_test, scoring=\"accuracy\", cv=None, n_permutations=100, n_jobs=1)\n",
    "\n",
    "print(\"Permutation test with XGBoosting gave us average accuracy of {} with p-value {}\".format(score,pvalue))"
   ]
  },
  {
   "cell_type": "markdown",
   "metadata": {},
   "source": [
    "## As expected, XGB performs the best, though they all perform badly\n"
   ]
  },
  {
   "cell_type": "code",
   "execution_count": 380,
   "metadata": {},
   "outputs": [],
   "source": [
    "xgb_predictions_test =xgb_model.predict(X_test)"
   ]
  },
  {
   "cell_type": "code",
   "execution_count": 381,
   "metadata": {},
   "outputs": [
    {
     "data": {
      "text/plain": [
       "0.6903409090909092"
      ]
     },
     "execution_count": 381,
     "metadata": {},
     "output_type": "execute_result"
    }
   ],
   "source": [
    "from sklearn.metrics import roc_curve, auc\n",
    "false_positive_rate, true_positive_rate, thresholds = roc_curve(y_test, xgb_predictions_test)\n",
    "roc_auc = auc(false_positive_rate, true_positive_rate)\n",
    "roc_auc"
   ]
  },
  {
   "cell_type": "code",
   "execution_count": 382,
   "metadata": {},
   "outputs": [
    {
     "data": {
      "text/plain": [
       "0.33663366336633666"
      ]
     },
     "execution_count": 382,
     "metadata": {},
     "output_type": "execute_result"
    }
   ],
   "source": [
    "pvalue"
   ]
  },
  {
   "cell_type": "code",
   "execution_count": 378,
   "metadata": {},
   "outputs": [
    {
     "data": {
      "image/png": "[encoded data removed]",
      "text/plain": [
       "<Figure size 864x288 with 1 Axes>"
      ]
     },
     "metadata": {
      "needs_background": "light"
     },
     "output_type": "display_data"
    }
   ],
   "source": [
    "# #############################################################################\n",
    "# View histogram of permutation scores\n",
    "plt.hist(permutation_scores, 20, label='Permutation scores',\n",
    "         edgecolor='black')\n",
    "ylim = plt.ylim()\n",
    "# BUG: vlines(..., linestyle='--') fails on older versions of matplotlib\n",
    "# plt.vlines(score, ylim[0], ylim[1], linestyle='--',\n",
    "#          color='g', linewidth=3, label='Classification Score'\n",
    "#          ' (pvalue %s)' % pvalue)\n",
    "# plt.vlines(1.0 / n_classes, ylim[0], ylim[1], linestyle='--',\n",
    "#          color='k', linewidth=3, label='Luck')\n",
    "plt.plot(2 * [score], ylim, '--g', linewidth=3,\n",
    "         label='Classification Score'\n",
    "         ' (pvalue %s)' % pvalue)\n",
    "plt.plot(2 * [1. / 2], ylim, '--k', linewidth=3, label='Luck')\n",
    "\n",
    "plt.ylim(ylim)\n",
    "plt.legend()\n",
    "plt.xlabel('Score')\n",
    "plt.show()"
   ]
  },
  {
   "cell_type": "markdown",
   "metadata": {},
   "source": [
    "# Does not look very good but this was only on the small prototest set sliced off the training set. lets see how it performs on the unseen test set."
   ]
  },
  {
   "cell_type": "code",
   "execution_count": 414,
   "metadata": {},
   "outputs": [
    {
     "name": "stdout",
     "output_type": "stream",
     "text": [
      "Permutation test with XGBoosting gave us average accuracy of 0.5777777777777778 with p-value 0.03296703296703297\n"
     ]
    }
   ],
   "source": [
    "score, permutation_scores, pvalue = permutation_test_score(\n",
    "    xgb_model, testing_features, empathy_labels_testing, scoring=\"accuracy\", cv=None, n_permutations=1000, n_jobs=1)\n",
    "\n",
    "print(\"Permutation test with XGBoosting gave us average accuracy of {} with p-value {}\".format(score,pvalue))"
   ]
  },
  {
   "cell_type": "code",
   "execution_count": 415,
   "metadata": {
    "scrolled": true
   },
   "outputs": [
    {
     "data": {
      "image/png": "[encoded data removed]",
      "text/plain": [
       "<Figure size 864x288 with 1 Axes>"
      ]
     },
     "metadata": {
      "needs_background": "light"
     },
     "output_type": "display_data"
    }
   ],
   "source": [
    "# #############################################################################\n",
    "# View histogram of permutation scores\n",
    "plt.hist(permutation_scores, 20, label='Permutation scores',\n",
    "         edgecolor='black')\n",
    "ylim = plt.ylim()\n",
    "plt.plot(2 * [score], ylim, '--g', linewidth=3,\n",
    "         label='Classification Score'\n",
    "         ' (pvalue %s)' % pvalue)\n",
    "plt.plot(2 * [1. / 2], ylim, '--k', linewidth=3, label='Luck')\n",
    "\n",
    "plt.ylim(ylim)\n",
    "plt.legend()\n",
    "plt.xlabel('Score')\n",
    "plt.show()"
   ]
  },
  {
   "cell_type": "code",
   "execution_count": 416,
   "metadata": {},
   "outputs": [
    {
     "data": {
      "text/plain": [
       "<matplotlib.axes._subplots.AxesSubplot at 0x2f9c526bdd8>"
      ]
     },
     "execution_count": 416,
     "metadata": {},
     "output_type": "execute_result"
    },
    {
     "data": {
      "image/png": "[encoded data removed]",
      "text/plain": [
       "<Figure size 864x288 with 1 Axes>"
      ]
     },
     "metadata": {
      "needs_background": "light"
     },
     "output_type": "display_data"
    }
   ],
   "source": [
    "from xgboost import plot_importance\n",
    "plot_importance(xgb_model, max_num_features=20,height=0.8)"
   ]
  },
  {
   "cell_type": "markdown",
   "metadata": {},
   "source": [
    "# We have a statistically significant result! We are able to classify between empathetic and non-empathetic narrative events with 57% accuracy"
   ]
  },
  {
   "cell_type": "code",
   "execution_count": null,
   "metadata": {},
   "outputs": [],
   "source": []
  }
 ],
 "metadata": {
  "kernelspec": {
   "display_name": "Python 3",
   "language": "python",
   "name": "python3"
  },
  "language_info": {
   "codemirror_mode": {
    "name": "ipython",
    "version": 3
   },
   "file_extension": ".py",
   "mimetype": "text/x-python",
   "name": "python",
   "nbconvert_exporter": "python",
   "pygments_lexer": "ipython3",
   "version": "3.6.6"
  }
 },
 "nbformat": 4,
 "nbformat_minor": 2
}
